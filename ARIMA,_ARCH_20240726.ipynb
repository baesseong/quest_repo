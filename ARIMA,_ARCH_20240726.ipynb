{
  "nbformat": 4,
  "nbformat_minor": 0,
  "metadata": {
    "colab": {
      "private_outputs": true,
      "provenance": []
    },
    "kernelspec": {
      "name": "python3",
      "display_name": "Python 3"
    },
    "language_info": {
      "name": "python"
    }
  },
  "cells": [
    {
      "cell_type": "markdown",
      "source": [
        "미니 프로젝트 목차\n",
        "    - ① 데이터 연결하기\n",
        "    - ② ARIMA 실습해보기!\n",
        "    - ③ 데이터 확인하기\n",
        "    - ④ 분산을 일정하게 만들기 - log transformation\n",
        "    - ⑤ 차분을 통해 분석하기\n",
        "    - ⑥ Auto ARIMA 적용 및 결과 확인\n",
        "    - ⑦ ARCH 모델 실습해보기"
      ],
      "metadata": {
        "id": "h-P0P609mSCZ"
      }
    },
    {
      "cell_type": "markdown",
      "source": [
        "- ① 데이터 연결하기\n",
        "    - 데이터가 있는 폴더를 연결합니다.\n",
        "    - arch를 설치합니다.\n",
        "- ② ARIMA 실습해보기\n",
        "    - SARIMA를 통해 예측\n",
        "- ③ 데이터 확인하기"
      ],
      "metadata": {
        "id": "fH-pZieBnUnN"
      }
    },
    {
      "cell_type": "code",
      "source": [
        "!pip install arch==6.3.0"
      ],
      "metadata": {
        "id": "UjVEhP9SmqDd"
      },
      "execution_count": null,
      "outputs": []
    },
    {
      "cell_type": "code",
      "source": [
        "pip install pmdarima"
      ],
      "metadata": {
        "id": "eNW4UpygnJrF"
      },
      "execution_count": null,
      "outputs": []
    },
    {
      "cell_type": "code",
      "source": [
        "import pandas as pd\n",
        "import numpy as np\n",
        "import matplotlib.pyplot as plt\n",
        "from statsmodels.graphics.tsaplots import plot_acf, plot_pacf # acf plot 및 pacf plot을 그리기 위한 라이브러리\n",
        "from statsmodels.tsa.arima_model import ARIMA # ARIMA 모델\n",
        "import pmdarima as pm # Auto ARIMA 모델"
      ],
      "metadata": {
        "id": "yylf9W_WmTww"
      },
      "execution_count": null,
      "outputs": []
    },
    {
      "cell_type": "code",
      "source": [
        "# air passengers 데이터 불러오기\n",
        "ap = pd.read_csv('/content/AirPassengers.csv')\n",
        "# 'Month' column을 삭제(필요없는 컬럼)\n",
        "ap.drop('Month', axis = 1 ,inplace = True)"
      ],
      "metadata": {
        "id": "MxKn_VJWmhG1"
      },
      "execution_count": null,
      "outputs": []
    },
    {
      "cell_type": "code",
      "source": [
        "ap"
      ],
      "metadata": {
        "id": "peHWYwoxm9pu"
      },
      "execution_count": null,
      "outputs": []
    },
    {
      "cell_type": "code",
      "source": [
        "plt.plot(ap)\n",
        "plt.show()"
      ],
      "metadata": {
        "id": "Cufvc1pC7z1Q"
      },
      "execution_count": null,
      "outputs": []
    },
    {
      "cell_type": "markdown",
      "source": [
        "- ④ 분산을 일정하게 만들기 - log transformation\n",
        "    - 로그변환(Log Transformation)을 통해 분산을 일정하게 조절합니다.\n",
        "    - 분산이 일정하게 적용되었는지 시각화한 후 확인합니다."
      ],
      "metadata": {
        "id": "RliZy2hg778W"
      }
    },
    {
      "cell_type": "code",
      "source": [
        "#log transformation\n",
        "ap_transformed = np.log(ap)\n",
        "ap_transformed"
      ],
      "metadata": {
        "id": "YlUSHoB98Bjd"
      },
      "execution_count": null,
      "outputs": []
    },
    {
      "cell_type": "code",
      "source": [
        "plot_acf(ap_transformed) # acf plot, 점차 감소하는 모양새를 지니고 있음\n",
        "plt.plot()"
      ],
      "metadata": {
        "id": "3geJk6Oh8a6l"
      },
      "execution_count": null,
      "outputs": []
    },
    {
      "cell_type": "code",
      "source": [
        "plot_pacf(ap_transformed) # pacf plot, lag 2까지 유의미한 결과를 보임\n",
        "plt.plot();"
      ],
      "metadata": {
        "id": "2TfEhL3M8emE"
      },
      "execution_count": null,
      "outputs": []
    },
    {
      "cell_type": "code",
      "source": [],
      "metadata": {
        "id": "Bs5r_eHG80oN"
      },
      "execution_count": null,
      "outputs": []
    },
    {
      "cell_type": "markdown",
      "source": [
        "- ⑤ 차분을 통해 분석하기\n",
        "    - ACF, PACF Plot과 차분을 활용하여 분석합니다."
      ],
      "metadata": {
        "id": "bFwsBgXB9Q5A"
      }
    },
    {
      "cell_type": "code",
      "source": [
        "ap_diff = ap_transformed.diff()\n",
        "ap_diff = ap_diff.dropna()"
      ],
      "metadata": {
        "id": "YkXJs6Yr9TL9"
      },
      "execution_count": null,
      "outputs": []
    },
    {
      "cell_type": "code",
      "source": [
        "# lag 1과 lag 12에서 유의미한 lag가 포착됨\n",
        "plot_acf(ap_diff)\n",
        "plt.plot();"
      ],
      "metadata": {
        "id": "XfJyhwts95Wd"
      },
      "execution_count": null,
      "outputs": []
    },
    {
      "cell_type": "code",
      "source": [
        "# lag 1, lag 8~12쯤에서 유의미한 lag가 포착됨\n",
        "plot_pacf(ap_diff)\n",
        "plt.plot();"
      ],
      "metadata": {
        "id": "qlPg22Op96H0"
      },
      "execution_count": null,
      "outputs": []
    },
    {
      "cell_type": "code",
      "source": [
        "ap_transformed"
      ],
      "metadata": {
        "id": "kblo8uFf97TJ"
      },
      "execution_count": null,
      "outputs": []
    },
    {
      "cell_type": "code",
      "source": [
        "# test 부분 분리\n",
        "train_size = int(len(ap_transformed)*0.8)\n",
        "\n",
        "ap_transformed_train = ap_transformed[:train_size]\n",
        "ap_transformed_test =  ap_transformed[train_size:]"
      ],
      "metadata": {
        "id": "SOykvcBw97VM"
      },
      "execution_count": null,
      "outputs": []
    },
    {
      "cell_type": "markdown",
      "source": [
        "- ⑥ Auto ARIMA 적용 및 결과 확인\n",
        "    - seasonal : False인 경우 non-seasonal model로 제한합니다.\n",
        "    \n",
        "    - suppress_warnings : ARIMA를 실행하면 생기는 에러문구를 나오지 않도록 해줍니다.\n",
        "    \n",
        "    - trace : True일 때 오류(error)가 발생하면 일부 내용을 출력합니다.\n",
        "    \n",
        "    - max_D : seasonal의 최대 값을 설정할 수 있습니다."
      ],
      "metadata": {
        "id": "2qJ7prdIBQKm"
      }
    },
    {
      "cell_type": "code",
      "source": [
        "# AutoARIMA\n",
        "# seasonal = True, max_D(계절차분) = 12\n",
        "model = pm.AutoARIMA(seasonal = True, suppress_warnings = True, trace = True, max_D = 12)\n",
        "res = model.fit(ap_transformed_train)"
      ],
      "metadata": {
        "id": "b0nczl5M97XV"
      },
      "execution_count": null,
      "outputs": []
    },
    {
      "cell_type": "code",
      "source": [
        "# confidence interval까지 도출\n",
        "preds, conf_int = res.predict(n_periods=ap_transformed_test.shape[0], return_conf_int=True)\n",
        "\n",
        "# 아래의 코드 결과값을 서로 비교 분석해봅시다.\n",
        "print(preds.shape)\n",
        "print(type(preds))\n",
        "print('--'*40)\n",
        "print(preds.shape[0])\n",
        "print(type(preds.shape[0]))\n",
        "print('--'*40)\n",
        "print(preds)\n",
        "print('--'*40)\n",
        "print(conf_int)"
      ],
      "metadata": {
        "id": "ITSxqgZTBdPs"
      },
      "execution_count": null,
      "outputs": []
    },
    {
      "cell_type": "code",
      "source": [
        "# 예측 성능을 시각화합니다.\n",
        "# 0. train과 test data를 축(axis)으로 만들었습니다.\n",
        "# 1. x축은 test으로 만들어 놓은 train data를 사용하고, y축에 train data를 사용하여 train data를 시각화 합니다.\n",
        "# 2. 1번 그래프에서 정답(AutoARIMA를 통해 만든 예측 값)에 해당하는 일자형 그래프가 생성됩니다.\n",
        "# 3. 원래 가지고 있던 데이터셋의 y값(지도 학습의 정답)을 산점도(scatter plot)로 생성합니다.\n",
        "# 4. 2, 3번의 분포에 해당하는 구간을 채워 그래프로 나타냈습니다.\n",
        "x_axis = np.arange(ap_transformed_train.shape[0] + preds.shape[0]) # 115 + 29, plot을 그리기 위해 x축을 생성합니다. # 0\n",
        "plt.plot(x_axis[:ap_transformed_train.shape[0]],ap_transformed_train, alpha=0.75) # 1\n",
        "plt.plot(x_axis[ap_transformed_train.shape[0]:], preds, alpha=0.75) # 2\n",
        "plt.scatter(x_axis[ap_transformed_train.shape[0]:],ap_transformed_test,\n",
        "            alpha=0.4, marker='o')  # 3 기존 test data는 scatter\n",
        "plt.fill_between(x_axis[-preds.shape[0]:],\n",
        "                 conf_int[:, 0], conf_int[:, 1],\n",
        "                 alpha=0.1, color='b') # 4\n",
        "plt.title(\"Log Transformed Air Passengers Forecast\") # plot의 제목\n",
        "plt.show() # 4개의 plot을 시각화 합니다."
      ],
      "metadata": {
        "id": "7qhX_5GmBh_M"
      },
      "execution_count": null,
      "outputs": []
    },
    {
      "cell_type": "markdown",
      "source": [
        "- ⑦ ARCH 모델 실습해보기"
      ],
      "metadata": {
        "id": "NOumvCdTB3_y"
      }
    },
    {
      "cell_type": "code",
      "source": [
        "# ⑦-1 : 데이터 및 라이브러리 불러오기\n",
        "import datetime as dt # 날짜와 시간을 조작할 수 있는 Python 라이브러리 입니다 .\n",
        "import arch.data.sp500 # S&P 500 데이터셋을 arch에서 불러옵니다.\n",
        "\n",
        "# ⑦-2 : 필요한 데이터로 가공하고 시각화를 통해 확인하기\n",
        "st = dt.datetime(2002, 1, 1) # start date\n",
        "en = dt.datetime(2022, 1, 1) # end date\n",
        "data = arch.data.sp500.load() # s&p 500 데이터 불러오기\n",
        "market = data[\"Adj Close\"] # 종가만 활용\n",
        "returns = 100 * market.pct_change().dropna() # return값으로 변환\n",
        "ax = returns.plot() # 수익률을 그래프로 만들기\n",
        "xlim = ax.set_xlim(returns.index.min(), returns.index.max()) # xlim은 x축 값의 보기를 제한 합니다.\n",
        "plt.show()"
      ],
      "metadata": {
        "id": "s7oLzTmRCBjC"
      },
      "execution_count": null,
      "outputs": []
    },
    {
      "cell_type": "code",
      "source": [
        "# ⑦-3 : ARCH 모델 적용\n",
        "from arch import arch_model\n",
        "\n",
        "am = arch_model(returns) # return을 arch모델에 적합\n",
        "res = am.fit(update_freq=5)\n",
        "\n",
        "# ⑦-4 : 지표를 통한 결과 확인\n",
        "print(res.summary())\n",
        "# 다양한 결과가 제시되어있으나, 수업때 배웠던 p-value, AIC, BIC위주로 내용을 파악\n",
        "# 아래에 있는 volatility model을 보면 alpha[1], Beta[1]은 GARCH(1,1)을 의미하며, p-value를 통해 신뢰도 95%에서 이들이 유의미함을 도출"
      ],
      "metadata": {
        "id": "L28Lb2LECBrQ"
      },
      "execution_count": null,
      "outputs": []
    },
    {
      "cell_type": "code",
      "source": [
        "# ⑦-5 : 시각화를 통한 결과값 확인\n",
        "res.plot()"
      ],
      "metadata": {
        "id": "woKKqMc_CBz0"
      },
      "execution_count": null,
      "outputs": []
    },
    {
      "cell_type": "code",
      "source": [],
      "metadata": {
        "id": "x-6tiWpCCKOL"
      },
      "execution_count": null,
      "outputs": []
    }
  ]
}