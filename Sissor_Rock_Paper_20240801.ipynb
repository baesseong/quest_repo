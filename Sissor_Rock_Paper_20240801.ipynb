{
 "cells": [
  {
   "cell_type": "code",
   "execution_count": 780,
   "id": "2848ce37",
   "metadata": {},
   "outputs": [
    {
     "name": "stdout",
     "output_type": "stream",
     "text": [
      "2.6.0\n",
      "1.22.2\n"
     ]
    }
   ],
   "source": [
    "import tensorflow as tf\n",
    "import numpy as np\n",
    "\n",
    "print(tf.__version__)\n",
    "print(np.__version__)"
   ]
  },
  {
   "cell_type": "code",
   "execution_count": 781,
   "id": "0a2d4bf6",
   "metadata": {},
   "outputs": [],
   "source": [
    "from PIL import Image \n",
    "import glob\n",
    "import os"
   ]
  },
  {
   "cell_type": "code",
   "execution_count": 782,
   "id": "cdc99ec0",
   "metadata": {},
   "outputs": [],
   "source": [
    "def resize_images(img_path):\n",
    "\timages=glob.glob(img_path + \"/*.jpg\")  \n",
    "    \n",
    "\tprint(len(images), \" images to be resized.\")\n",
    "\n",
    "    # 파일마다 모두 28x28 사이즈로 바꾸어 저장합니다.\n",
    "\ttarget_size=(28,28)\n",
    "\tfor img in images:\n",
    "\t\told_img=Image.open(img)\n",
    "\t\tnew_img=old_img.resize(target_size,Image.ANTIALIAS)\n",
    "\t\tnew_img.save(img, \"JPEG\")\n",
    "    \n",
    "\tprint(len(images), \" images resized.\")\n",
    "\t"
   ]
  },
  {
   "cell_type": "code",
   "execution_count": 783,
   "id": "b7196f24",
   "metadata": {},
   "outputs": [
    {
     "name": "stdout",
     "output_type": "stream",
     "text": [
      "100  images to be resized.\n",
      "100  images resized.\n",
      "가위 이미지 resize 완료!\n"
     ]
    }
   ],
   "source": [
    "# 가위 이미지가 저장된 디렉토리 아래의 모든 jpg 파일을 읽어들이기\n",
    "image_dir_path = os.getenv(\"HOME\") + \"/aiffel/rock_scissor_paper/scissor\"\n",
    "resize_images(image_dir_path)\n",
    "\n",
    "print(\"가위 이미지 resize 완료!\")"
   ]
  },
  {
   "cell_type": "code",
   "execution_count": 784,
   "id": "97b61e6c",
   "metadata": {},
   "outputs": [
    {
     "name": "stdout",
     "output_type": "stream",
     "text": [
      "100  images to be resized.\n",
      "100  images resized.\n",
      "바위 이미지 resize 완료!\n"
     ]
    }
   ],
   "source": [
    "# 바위 이미지가 저장된 디렉토리 아래의 모든 jpg 파일을 읽어들여서\n",
    "image_dir_path = os.getenv(\"HOME\") + \"/aiffel/rock_scissor_paper/rock\"\n",
    "resize_images(image_dir_path)\n",
    "\n",
    "print(\"바위 이미지 resize 완료!\")"
   ]
  },
  {
   "cell_type": "code",
   "execution_count": 785,
   "id": "6dceed65",
   "metadata": {},
   "outputs": [
    {
     "name": "stdout",
     "output_type": "stream",
     "text": [
      "100  images to be resized.\n",
      "100  images resized.\n",
      "보 이미지 resize 완료!\n"
     ]
    }
   ],
   "source": [
    "# 보 이미지가 저장된 디렉토리 아래의 모든 jpg 파일을 읽어들여서\n",
    "image_dir_path = os.getenv(\"HOME\") + \"/aiffel/rock_scissor_paper/paper\"\n",
    "resize_images(image_dir_path)\n",
    "\n",
    "print(\"보 이미지 resize 완료!\")"
   ]
  },
  {
   "cell_type": "code",
   "execution_count": 786,
   "id": "eaba2429",
   "metadata": {},
   "outputs": [],
   "source": [
    "import os\n",
    "import glob\n",
    "import numpy as np\n",
    "from PIL import Image\n",
    "\n",
    "def load_data(img_path, number_of_data=300):  # number_of_data는 기본값으로 유지\n",
    "    # 가위 : 0, 바위 : 1, 보 : 2\n",
    "    img_size = 28\n",
    "    color = 3\n",
    "    categories = ['scissor', 'rock', 'paper']\n",
    "    \n",
    "    imgs = []\n",
    "    labels = []\n",
    "    \n",
    "    for idx, category in enumerate(categories):\n",
    "        label = idx\n",
    "        image_dir = os.path.join(img_path, category)\n",
    "        for file in glob.iglob(os.path.join(image_dir, \"*.jpg\")):\n",
    "            img = np.array(Image.open(file), dtype=np.int32)\n",
    "            imgs.append(img)\n",
    "            labels.append(label)\n",
    "    \n",
    "    imgs = np.array(imgs)\n",
    "    labels = np.array(labels)\n",
    "    \n",
    "    print(\"데이터의 이미지 개수는\", len(imgs),\"입니다.\")\n",
    "    return imgs, labels\n"
   ]
  },
  {
   "cell_type": "code",
   "execution_count": 787,
   "id": "25ba8f9f",
   "metadata": {},
   "outputs": [
    {
     "name": "stdout",
     "output_type": "stream",
     "text": [
      "데이터의 이미지 개수는 300 입니다.\n",
      "x_train shape: (300, 28, 28, 3)\n",
      "y_train shape: (300,)\n"
     ]
    }
   ],
   "source": [
    "image_dir_path = \"rock_scissor_paper\"\n",
    "(x_train, y_train) = load_data(image_dir_path)\n",
    "\n",
    "# 정규화\n",
    "x_train_norm = x_train.astype('float32') / 255.0\n",
    "\n",
    "print(\"x_train shape: {}\".format(x_train.shape))\n",
    "print(\"y_train shape: {}\".format(y_train.shape))"
   ]
  },
  {
   "cell_type": "code",
   "execution_count": 788,
   "id": "8087c0eb",
   "metadata": {},
   "outputs": [
    {
     "name": "stdout",
     "output_type": "stream",
     "text": [
      "라벨 :  0\n"
     ]
    },
    {
     "data": {
      "image/png": "[encoded data removed]",
      "text/plain": [
       "<Figure size 432x288 with 1 Axes>"
      ]
     },
     "metadata": {
      "needs_background": "light"
     },
     "output_type": "display_data"
    }
   ],
   "source": [
    "plt.imshow(x_train[30])\n",
    "print('라벨 : ', y_train[30])"
   ]
  },
  {
   "cell_type": "markdown",
   "id": "4d5eacd0",
   "metadata": {},
   "source": [
    "# 딥러닝 네트워크 설계하기"
   ]
  },
  {
   "cell_type": "code",
   "execution_count": 789,
   "id": "b11cfcd6",
   "metadata": {},
   "outputs": [
    {
     "name": "stdout",
     "output_type": "stream",
     "text": [
      "Model: \"sequential_93\"\n",
      "_________________________________________________________________\n",
      "Layer (type)                 Output Shape              Param #   \n",
      "=================================================================\n",
      "conv2d_233 (Conv2D)          (None, 26, 26, 16)        448       \n",
      "_________________________________________________________________\n",
      "max_pooling2d_233 (MaxPoolin (None, 13, 13, 16)        0         \n",
      "_________________________________________________________________\n",
      "conv2d_234 (Conv2D)          (None, 11, 11, 32)        4640      \n",
      "_________________________________________________________________\n",
      "max_pooling2d_234 (MaxPoolin (None, 5, 5, 32)          0         \n",
      "_________________________________________________________________\n",
      "flatten_92 (Flatten)         (None, 800)               0         \n",
      "_________________________________________________________________\n",
      "dense_184 (Dense)            (None, 64)                51264     \n",
      "_________________________________________________________________\n",
      "dense_185 (Dense)            (None, 3)                 195       \n",
      "=================================================================\n",
      "Total params: 56,547\n",
      "Trainable params: 56,547\n",
      "Non-trainable params: 0\n",
      "_________________________________________________________________\n",
      "Epoch 1/15\n",
      "10/10 [==============================] - 1s 17ms/step - loss: 21.1096 - accuracy: 0.3533\n",
      "Epoch 2/15\n",
      "10/10 [==============================] - 0s 20ms/step - loss: 3.0096 - accuracy: 0.5333\n",
      "Epoch 3/15\n",
      "10/10 [==============================] - 0s 20ms/step - loss: 1.2288 - accuracy: 0.7033\n",
      "Epoch 4/15\n",
      "10/10 [==============================] - 0s 20ms/step - loss: 0.6137 - accuracy: 0.8133\n",
      "Epoch 5/15\n",
      "10/10 [==============================] - 0s 22ms/step - loss: 0.3539 - accuracy: 0.8867\n",
      "Epoch 6/15\n",
      "10/10 [==============================] - 0s 18ms/step - loss: 0.3096 - accuracy: 0.9067\n",
      "Epoch 7/15\n",
      "10/10 [==============================] - 0s 20ms/step - loss: 0.1177 - accuracy: 0.9733\n",
      "Epoch 8/15\n",
      "10/10 [==============================] - 0s 20ms/step - loss: 0.0733 - accuracy: 0.9800\n",
      "Epoch 9/15\n",
      "10/10 [==============================] - 0s 20ms/step - loss: 0.0759 - accuracy: 0.9833\n",
      "Epoch 10/15\n",
      "10/10 [==============================] - 0s 20ms/step - loss: 0.0537 - accuracy: 0.9900\n",
      "Epoch 11/15\n",
      "10/10 [==============================] - 0s 20ms/step - loss: 0.1103 - accuracy: 0.9567\n",
      "Epoch 12/15\n",
      "10/10 [==============================] - 0s 20ms/step - loss: 0.1557 - accuracy: 0.9367\n",
      "Epoch 13/15\n",
      "10/10 [==============================] - 0s 20ms/step - loss: 0.0832 - accuracy: 0.9667\n",
      "Epoch 14/15\n",
      "10/10 [==============================] - 0s 20ms/step - loss: 0.1507 - accuracy: 0.9367\n",
      "Epoch 15/15\n",
      "10/10 [==============================] - 0s 20ms/step - loss: 0.0743 - accuracy: 0.9733\n"
     ]
    },
    {
     "data": {
      "text/plain": [
       "<keras.callbacks.History at 0x7c4864c33a00>"
      ]
     },
     "execution_count": 789,
     "metadata": {},
     "output_type": "execute_result"
    }
   ],
   "source": [
    "import tensorflow as tf\n",
    "from tensorflow import keras\n",
    "import numpy as np\n",
    "\n",
    "# 아래의 하이퍼파라미터는 예시입니다. 높은 인식률을 얻기 위해 하이퍼파라미터를 수정해 보세요. \n",
    "n_channel_1=16\n",
    "n_channel_2=32\n",
    "n_dense=64\n",
    "n_train_epoch=15\n",
    "\n",
    "model=keras.models.Sequential()\n",
    "model.add(keras.layers.Conv2D(n_channel_1, (3,3), activation='relu', input_shape=(28,28,3)))\n",
    "model.add(keras.layers.MaxPool2D(2,2))\n",
    "model.add(keras.layers.Conv2D(n_channel_2, (3,3), activation='relu'))\n",
    "model.add(keras.layers.MaxPooling2D((2,2)))\n",
    "model.add(keras.layers.Flatten())\n",
    "model.add(keras.layers.Dense(n_dense, activation='relu'))\n",
    "model.add(keras.layers.Dense(3, activation='softmax'))\n",
    "\n",
    "model.summary()\n",
    "\n",
    "model.compile(optimizer='adam',\n",
    "             loss='sparse_categorical_crossentropy',\n",
    "             metrics=['accuracy'])\n",
    "\n",
    "# 모델 훈련\n",
    "model.fit(x_train, y_train, epochs=n_train_epoch)\n"
   ]
  },
  {
   "cell_type": "code",
   "execution_count": null,
   "id": "3f49876a",
   "metadata": {},
   "outputs": [],
   "source": []
  },
  {
   "cell_type": "markdown",
   "id": "039a67ef",
   "metadata": {},
   "source": [
    "# 테스트 하기"
   ]
  },
  {
   "cell_type": "code",
   "execution_count": 790,
   "id": "f51d0a84",
   "metadata": {},
   "outputs": [
    {
     "name": "stdout",
     "output_type": "stream",
     "text": [
      "209  images to be resized.\n",
      "209  images resized.\n",
      "202  images to be resized.\n",
      "202  images resized.\n",
      "212  images to be resized.\n",
      "212  images resized.\n",
      "데이터의 이미지 개수는 623 입니다.\n",
      "x_test shape: (623, 28, 28, 3)\n",
      "y_test shape: (623,)\n"
     ]
    }
   ],
   "source": [
    "image_dir_path = os.getenv(\"HOME\") + \"/aiffel/rock_scissor_paper/test/scissor\"\n",
    "resize_images(image_dir_path)\n",
    "\n",
    "image_dir_path = os.getenv(\"HOME\") + \"/aiffel/rock_scissor_paper/test/rock\"\n",
    "resize_images(image_dir_path)\n",
    "\n",
    "image_dir_path = os.getenv(\"HOME\") + \"/aiffel/rock_scissor_paper/test/paper\"\n",
    "resize_images(image_dir_path)\n",
    "\n",
    "image_dir_path = os.getenv(\"HOME\") + \"/aiffel/rock_scissor_paper/test\"\n",
    "(x_test, y_test)=load_data(image_dir_path)\n",
    "x_test_norm = x_test.astype('float32') / 255.0\n",
    "print(\"x_test shape: {}\".format(x_test.shape))\n",
    "print(\"y_test shape: {}\".format(y_test.shape))\n"
   ]
  },
  {
   "cell_type": "code",
   "execution_count": 791,
   "id": "7333e86c",
   "metadata": {},
   "outputs": [
    {
     "name": "stdout",
     "output_type": "stream",
     "text": [
      "20/20 - 0s - loss: 1.0789 - accuracy: 0.7608\n",
      "test_loss : 1.0789\n",
      "test_accuracy : 0.7608\n"
     ]
    }
   ],
   "source": [
    "# 모델 평가\n",
    "test_loss, test_accuracy = model.evaluate(x_test_norm, y_test, verbose=2)\n",
    "print(\"test_loss : {:.4f}\".format(test_loss))\n",
    "print(\"test_accuracy : {:.4f}\".format(test_accuracy))"
   ]
  },
  {
   "cell_type": "code",
   "execution_count": 792,
   "id": "a4ee6016",
   "metadata": {},
   "outputs": [],
   "source": [
    "import matplotlib.pyplot as plt\n",
    "\n",
    "# 학습 결과 시각화 함수\n",
    "def plot_training_history(history):\n",
    "    # 히스토리 객체에서 필요한 데이터를 가져오기\n",
    "    acc = history.history['accuracy']\n",
    "    val_acc = history.history['val_accuracy']\n",
    "    loss = history.history['loss']\n",
    "    val_loss = history.history['val_loss']\n",
    "    epochs = range(1, len(acc) + 1)\n",
    "    \n",
    "    # 정확도 그래프\n",
    "    plt.figure(figsize=(14, 5))\n",
    "    \n",
    "    plt.subplot(1, 2, 1)\n",
    "    plt.plot(epochs, acc, 'bo', label='Training accuracy')\n",
    "    plt.plot(epochs, val_acc, 'b', label='Validation accuracy')\n",
    "    plt.title('Training and validation accuracy')\n",
    "    plt.xlabel('Epochs')\n",
    "    plt.ylabel('Accuracy')\n",
    "    plt.legend()\n",
    "    \n",
    "    # 손실 그래프\n",
    "    plt.subplot(1, 2, 2)\n",
    "    plt.plot(epochs, loss, 'ro', label='Training loss')\n",
    "    plt.plot(epochs, val_loss, 'r', label='Validation loss')\n",
    "    plt.title('Training and validation loss')\n",
    "    plt.xlabel('Epochs')\n",
    "    plt.ylabel('Loss')\n",
    "    plt.legend()\n",
    "    \n",
    "    plt.show()\n"
   ]
  },
  {
   "cell_type": "code",
   "execution_count": 794,
   "id": "42725f54",
   "metadata": {},
   "outputs": [
    {
     "data": {
      "image/png": "[encoded data removed]",
      "text/plain": [
       "<Figure size 1008x360 with 2 Axes>"
      ]
     },
     "metadata": {
      "needs_background": "light"
     },
     "output_type": "display_data"
    }
   ],
   "source": [
    "plot_training_history(history)"
   ]
  },
  {
   "cell_type": "markdown",
   "id": "df068051",
   "metadata": {},
   "source": [
    "- 데이터 300개 가지고 최대한 해보려했으나(데이터 분할, 증강 , 다른 모델) 성능이 좋지 않았다.\n",
    "- 풍부한 데이터 셋이 먼저구나라고 생각하고, 데이터를 늘려야겠다는 생각을 했다. "
   ]
  },
  {
   "cell_type": "markdown",
   "id": "39bd906e",
   "metadata": {},
   "source": [
    "### 훈련 데이터 보충 후 학습"
   ]
  },
  {
   "cell_type": "code",
   "execution_count": 816,
   "id": "867e804d",
   "metadata": {},
   "outputs": [
    {
     "name": "stdout",
     "output_type": "stream",
     "text": [
      "Model: \"sequential_115\"\n",
      "_________________________________________________________________\n",
      "Layer (type)                 Output Shape              Param #   \n",
      "=================================================================\n",
      "conv2d_281 (Conv2D)          (None, 26, 26, 16)        448       \n",
      "_________________________________________________________________\n",
      "max_pooling2d_281 (MaxPoolin (None, 13, 13, 16)        0         \n",
      "_________________________________________________________________\n",
      "conv2d_282 (Conv2D)          (None, 11, 11, 32)        4640      \n",
      "_________________________________________________________________\n",
      "max_pooling2d_282 (MaxPoolin (None, 5, 5, 32)          0         \n",
      "_________________________________________________________________\n",
      "flatten_114 (Flatten)        (None, 800)               0         \n",
      "_________________________________________________________________\n",
      "dense_228 (Dense)            (None, 32)                25632     \n",
      "_________________________________________________________________\n",
      "dense_229 (Dense)            (None, 3)                 99        \n",
      "=================================================================\n",
      "Total params: 30,819\n",
      "Trainable params: 30,819\n",
      "Non-trainable params: 0\n",
      "_________________________________________________________________\n",
      "Epoch 1/15\n",
      "10/10 [==============================] - 1s 17ms/step - loss: 13.7796 - accuracy: 0.3767\n",
      "Epoch 2/15\n",
      "10/10 [==============================] - 0s 19ms/step - loss: 4.0831 - accuracy: 0.4367\n",
      "Epoch 3/15\n",
      "10/10 [==============================] - 0s 19ms/step - loss: 1.7931 - accuracy: 0.5700\n",
      "Epoch 4/15\n",
      "10/10 [==============================] - 0s 17ms/step - loss: 0.7628 - accuracy: 0.7833\n",
      "Epoch 5/15\n",
      "10/10 [==============================] - 0s 17ms/step - loss: 0.6193 - accuracy: 0.7967\n",
      "Epoch 6/15\n",
      "10/10 [==============================] - 0s 17ms/step - loss: 0.3852 - accuracy: 0.8667\n",
      "Epoch 7/15\n",
      "10/10 [==============================] - 0s 19ms/step - loss: 0.2161 - accuracy: 0.9233\n",
      "Epoch 8/15\n",
      "10/10 [==============================] - 0s 19ms/step - loss: 0.1445 - accuracy: 0.9600\n",
      "Epoch 9/15\n",
      "10/10 [==============================] - 0s 20ms/step - loss: 0.1040 - accuracy: 0.9633\n",
      "Epoch 10/15\n",
      "10/10 [==============================] - 0s 20ms/step - loss: 0.0983 - accuracy: 0.9733\n",
      "Epoch 11/15\n",
      "10/10 [==============================] - 0s 20ms/step - loss: 0.0791 - accuracy: 0.9833\n",
      "Epoch 12/15\n",
      "10/10 [==============================] - 0s 20ms/step - loss: 0.1453 - accuracy: 0.9433\n",
      "Epoch 13/15\n",
      "10/10 [==============================] - 0s 19ms/step - loss: 0.0774 - accuracy: 0.9733\n",
      "Epoch 14/15\n",
      "10/10 [==============================] - 0s 19ms/step - loss: 0.0667 - accuracy: 0.9900\n",
      "Epoch 15/15\n",
      "10/10 [==============================] - 0s 17ms/step - loss: 0.0465 - accuracy: 0.9867\n",
      "209  images to be resized.\n",
      "209  images resized.\n",
      "202  images to be resized.\n",
      "202  images resized.\n",
      "212  images to be resized.\n",
      "212  images resized.\n",
      "데이터의 이미지 개수는 623 입니다.\n",
      "x_test shape: (623, 28, 28, 3)\n",
      "y_test shape: (623,)\n",
      "20/20 - 0s - loss: 1.0840 - accuracy: 0.7913\n",
      "test_loss : 1.0840\n",
      "test_accuracy : 0.7913\n"
     ]
    }
   ],
   "source": [
    "import tensorflow as tf\n",
    "from tensorflow import keras\n",
    "import numpy as np\n",
    "\n",
    "# 아래의 하이퍼파라미터는 예시입니다. 높은 인식률을 얻기 위해 하이퍼파라미터를 수정해 보세요. \n",
    "n_channel_1=16\n",
    "n_channel_2=32\n",
    "n_dense=32\n",
    "n_train_epoch=15\n",
    "\n",
    "model=keras.models.Sequential()\n",
    "model.add(keras.layers.Conv2D(n_channel_1, (3,3), activation='relu', input_shape=(28,28,3)))\n",
    "model.add(keras.layers.MaxPool2D(2,2))\n",
    "model.add(keras.layers.Conv2D(n_channel_2, (3,3), activation='relu'))\n",
    "model.add(keras.layers.MaxPooling2D((2,2)))\n",
    "model.add(keras.layers.Flatten())\n",
    "model.add(keras.layers.Dense(n_dense, activation='relu'))\n",
    "model.add(keras.layers.Dense(3, activation='softmax'))\n",
    "\n",
    "model.summary()\n",
    "\n",
    "model.compile(optimizer='adam',\n",
    "             loss='sparse_categorical_crossentropy',\n",
    "             metrics=['accuracy'])\n",
    "\n",
    "# 모델 훈련\n",
    "model.fit(x_train, y_train, epochs=n_train_epoch)\n",
    "\n",
    "image_dir_path = os.getenv(\"HOME\") + \"/aiffel/rock_scissor_paper/test/scissor\"\n",
    "resize_images(image_dir_path)\n",
    "\n",
    "image_dir_path = os.getenv(\"HOME\") + \"/aiffel/rock_scissor_paper/test/rock\"\n",
    "resize_images(image_dir_path)\n",
    "\n",
    "image_dir_path = os.getenv(\"HOME\") + \"/aiffel/rock_scissor_paper/test/paper\"\n",
    "resize_images(image_dir_path)\n",
    "\n",
    "image_dir_path = os.getenv(\"HOME\") + \"/aiffel/rock_scissor_paper/test\"\n",
    "(x_test, y_test)=load_data(image_dir_path)\n",
    "x_test_norm = x_test.astype('float32') / 255.0\n",
    "print(\"x_test shape: {}\".format(x_test.shape))\n",
    "print(\"y_test shape: {}\".format(y_test.shape))\n",
    "\n",
    "\n",
    "# 모델 평가\n",
    "test_loss, test_accuracy = model.evaluate(x_test_norm, y_test, verbose=2)\n",
    "print(\"test_loss : {:.4f}\".format(test_loss))\n",
    "print(\"test_accuracy : {:.4f}\".format(test_accuracy))"
   ]
  },
  {
   "cell_type": "code",
   "execution_count": 805,
   "id": "92f3bff5",
   "metadata": {},
   "outputs": [
    {
     "name": "stdout",
     "output_type": "stream",
     "text": [
      "Model: \"sequential_104\"\n",
      "_________________________________________________________________\n",
      "Layer (type)                 Output Shape              Param #   \n",
      "=================================================================\n",
      "conv2d_258 (Conv2D)          (None, 26, 26, 32)        896       \n",
      "_________________________________________________________________\n",
      "max_pooling2d_258 (MaxPoolin (None, 13, 13, 32)        0         \n",
      "_________________________________________________________________\n",
      "conv2d_259 (Conv2D)          (None, 11, 11, 64)        18496     \n",
      "_________________________________________________________________\n",
      "max_pooling2d_259 (MaxPoolin (None, 5, 5, 64)          0         \n",
      "_________________________________________________________________\n",
      "conv2d_260 (Conv2D)          (None, 3, 3, 64)          36928     \n",
      "_________________________________________________________________\n",
      "max_pooling2d_260 (MaxPoolin (None, 1, 1, 64)          0         \n",
      "_________________________________________________________________\n",
      "flatten_103 (Flatten)        (None, 64)                0         \n",
      "_________________________________________________________________\n",
      "dense_206 (Dense)            (None, 128)               8320      \n",
      "_________________________________________________________________\n",
      "dropout_41 (Dropout)         (None, 128)               0         \n",
      "_________________________________________________________________\n",
      "dense_207 (Dense)            (None, 3)                 387       \n",
      "=================================================================\n",
      "Total params: 65,027\n",
      "Trainable params: 65,027\n",
      "Non-trainable params: 0\n",
      "_________________________________________________________________\n",
      "Epoch 1/20\n",
      "10/10 [==============================] - 1s 62ms/step - loss: 190.2580 - accuracy: 0.3767 - val_loss: 12.8892 - val_accuracy: 0.5500\n",
      "Epoch 2/20\n",
      "10/10 [==============================] - 0s 47ms/step - loss: 59.4825 - accuracy: 0.3300 - val_loss: 13.1511 - val_accuracy: 0.4500\n",
      "Epoch 3/20\n",
      "10/10 [==============================] - 1s 50ms/step - loss: 23.6267 - accuracy: 0.3100 - val_loss: 5.1410 - val_accuracy: 0.4500\n",
      "Epoch 4/20\n",
      "10/10 [==============================] - 0s 48ms/step - loss: 14.9564 - accuracy: 0.3167 - val_loss: 3.7722 - val_accuracy: 0.2500\n",
      "Epoch 5/20\n",
      "10/10 [==============================] - 0s 51ms/step - loss: 4.2336 - accuracy: 0.3700 - val_loss: 1.3818 - val_accuracy: 0.4000\n",
      "Epoch 6/20\n",
      "10/10 [==============================] - 0s 47ms/step - loss: 1.6846 - accuracy: 0.3467 - val_loss: 1.0961 - val_accuracy: 0.3000\n",
      "Epoch 7/20\n",
      "10/10 [==============================] - 0s 48ms/step - loss: 1.2153 - accuracy: 0.3367 - val_loss: 1.1030 - val_accuracy: 0.3500\n",
      "Epoch 8/20\n",
      "10/10 [==============================] - 1s 53ms/step - loss: 1.1143 - accuracy: 0.3433 - val_loss: 1.1024 - val_accuracy: 0.3500\n",
      "Epoch 9/20\n",
      "10/10 [==============================] - 1s 49ms/step - loss: 1.1868 - accuracy: 0.3267 - val_loss: 1.1025 - val_accuracy: 0.3500\n",
      "Epoch 10/20\n",
      "10/10 [==============================] - 1s 47ms/step - loss: 1.0969 - accuracy: 0.3400 - val_loss: 1.1022 - val_accuracy: 0.3500\n",
      "Epoch 11/20\n",
      "10/10 [==============================] - 0s 47ms/step - loss: 1.1049 - accuracy: 0.3367 - val_loss: 1.1017 - val_accuracy: 0.3500\n",
      "20/20 - 0s - loss: 1.0984 - accuracy: 0.3387\n",
      "test_loss : 1.0984\n",
      "test_accuracy : 0.3387\n"
     ]
    }
   ],
   "source": [
    "from tensorflow.keras.preprocessing.image import ImageDataGenerator\n",
    "from tensorflow.keras.callbacks import EarlyStopping\n",
    "\n",
    "# 데이터 증강\n",
    "datagen = ImageDataGenerator(\n",
    "    rotation_range=20,\n",
    "    width_shift_range=0.2,\n",
    "    height_shift_range=0.2,\n",
    "    horizontal_flip=True,\n",
    "    fill_mode='nearest'\n",
    ")\n",
    "\n",
    "datagen.fit(x_train)\n",
    "\n",
    "# 모델 설계\n",
    "model = keras.models.Sequential([\n",
    "    keras.layers.Conv2D(32, (3,3), activation='relu', kernel_initializer='he_normal', input_shape=(28,28,3)),\n",
    "    keras.layers.MaxPooling2D(2,2),\n",
    "    keras.layers.Conv2D(64, (3,3), activation='relu', kernel_initializer='he_normal'),\n",
    "    keras.layers.MaxPooling2D((2,2)),\n",
    "    keras.layers.Conv2D(64, (3,3), activation='relu', kernel_initializer='he_normal'),\n",
    "    keras.layers.MaxPooling2D((2,2)),\n",
    "    keras.layers.Flatten(),\n",
    "    keras.layers.Dense(128, activation='relu', kernel_initializer='he_normal'),\n",
    "    keras.layers.Dropout(0.5),\n",
    "    keras.layers.Dense(3, activation='softmax')\n",
    "])\n",
    "\n",
    "model.summary()\n",
    "\n",
    "model.compile(optimizer='adam',\n",
    "              loss='sparse_categorical_crossentropy',\n",
    "              metrics=['accuracy'])\n",
    "\n",
    "# 조기 종료 콜백\n",
    "early_stopping = EarlyStopping(monitor='val_loss', patience=5, restore_best_weights=True)\n",
    "\n",
    "# 모델 훈련\n",
    "model.fit(datagen.flow(x_train, y_train, batch_size=32),\n",
    "          epochs=20,\n",
    "          validation_data=(x_val, y_val),\n",
    "          callbacks=[early_stopping])\n",
    "\n",
    "# 모델 평가\n",
    "test_loss, test_accuracy = model.evaluate(x_test_norm, y_test, verbose=2)\n",
    "print(\"test_loss : {:.4f}\".format(test_loss))\n",
    "print(\"test_accuracy : {:.4f}\".format(test_accuracy))"
   ]
  },
  {
   "cell_type": "markdown",
   "id": "7c4914d1",
   "metadata": {},
   "source": [
    "- 더 좋아진 것을 알 수 있다. 즉 훈련 데이터셋이 풍부하면 학습을 잘하여 과적합만 방지할 경우에, 예측을 잘하는 것을 알 수 있다."
   ]
  }
 ],
 "metadata": {
  "kernelspec": {
   "display_name": "Python 3 (ipykernel)",
   "language": "python",
   "name": "python3"
  },
  "language_info": {
   "codemirror_mode": {
    "name": "ipython",
    "version": 3
   },
   "file_extension": ".py",
   "mimetype": "text/x-python",
   "name": "python",
   "nbconvert_exporter": "python",
   "pygments_lexer": "ipython3",
   "version": "3.9.7"
  }
 },
 "nbformat": 4,
 "nbformat_minor": 5
}
